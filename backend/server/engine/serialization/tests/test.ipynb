{
 "cells": [
  {
   "cell_type": "code",
   "id": "initial_id",
   "metadata": {
    "collapsed": true
   },
   "source": "",
   "outputs": [],
   "execution_count": null
  },
  {
   "metadata": {},
   "cell_type": "markdown",
   "source": [
    "from av.video.stream import VideoStream\n",
    "\n",
    "container=av.open(video_path_output)\n",
    "stream:VideoStream=container.streams.video[0]\n",
    "stream"
   ],
   "id": "2ecc50c876a9c4b3"
  },
  {
   "metadata": {},
   "cell_type": "markdown",
   "source": [
    "# Create a container to write to\n",
    "output = av.open('output_video.mp4', mode='w')\n",
    "\n",
    "# Create a stream to write to (specify codec here)\n",
    "stream = output.add_stream('mpeg4', rate=24)\n",
    "# output.mux('mpeg4')\n",
    "# stream.bit_rate\n",
    "output.supported_codecs\n"
   ],
   "id": "c881269becb98c0b"
  },
  {
   "metadata": {
    "ExecuteTime": {
     "end_time": "2024-09-01T05:43:22.838468Z",
     "start_time": "2024-09-01T05:43:22.591406Z"
    }
   },
   "cell_type": "code",
   "source": [
    "from django.conf import settings\n",
    "\n",
    "settings.configure()\n"
   ],
   "id": "280367cfaacc1a51",
   "outputs": [
    {
     "ename": "ImproperlyConfigured",
     "evalue": "Requested setting INSTALLED_APPS, but settings are not configured. You must either define the environment variable DJANGO_SETTINGS_MODULE or call settings.configure() before accessing settings.",
     "output_type": "error",
     "traceback": [
      "\u001B[1;31m---------------------------------------------------------------------------\u001B[0m",
      "\u001B[1;31mImproperlyConfigured\u001B[0m                      Traceback (most recent call last)",
      "Cell \u001B[1;32mIn[4], line 2\u001B[0m\n\u001B[0;32m      1\u001B[0m \u001B[38;5;28;01mfrom\u001B[39;00m \u001B[38;5;21;01mdjango\u001B[39;00m\u001B[38;5;21;01m.\u001B[39;00m\u001B[38;5;21;01mconf\u001B[39;00m \u001B[38;5;28;01mimport\u001B[39;00m settings\n\u001B[1;32m----> 2\u001B[0m \u001B[38;5;28;01mfrom\u001B[39;00m \u001B[38;5;21;01mdjango\u001B[39;00m\u001B[38;5;21;01m.\u001B[39;00m\u001B[38;5;21;01mcontrib\u001B[39;00m\u001B[38;5;21;01m.\u001B[39;00m\u001B[38;5;21;01mauth\u001B[39;00m\u001B[38;5;21;01m.\u001B[39;00m\u001B[38;5;21;01mmodels\u001B[39;00m \u001B[38;5;28;01mimport\u001B[39;00m User\n\u001B[0;32m      3\u001B[0m settings\u001B[38;5;241m.\u001B[39mconfigure()\n\u001B[0;32m      4\u001B[0m user \u001B[38;5;241m=\u001B[39m User\u001B[38;5;241m.\u001B[39mobjects\u001B[38;5;241m.\u001B[39mcreate_user(username\u001B[38;5;241m=\u001B[39m\u001B[38;5;124m'\u001B[39m\u001B[38;5;124madmin\u001B[39m\u001B[38;5;124m'\u001B[39m,\n\u001B[0;32m      5\u001B[0m                                  email\u001B[38;5;241m=\u001B[39m\u001B[38;5;124m'\u001B[39m\u001B[38;5;124mjlennon@beatles.com\u001B[39m\u001B[38;5;124m'\u001B[39m,\n\u001B[0;32m      6\u001B[0m                                  password\u001B[38;5;241m=\u001B[39m\u001B[38;5;124m'\u001B[39m\u001B[38;5;124mq7655410\u001B[39m\u001B[38;5;124m'\u001B[39m)\n",
      "File \u001B[1;32m~\\AppData\\Local\\Programs\\Python\\Python312\\Lib\\site-packages\\django\\contrib\\auth\\models.py:3\u001B[0m\n\u001B[0;32m      1\u001B[0m \u001B[38;5;28;01mfrom\u001B[39;00m \u001B[38;5;21;01mdjango\u001B[39;00m\u001B[38;5;21;01m.\u001B[39;00m\u001B[38;5;21;01mapps\u001B[39;00m \u001B[38;5;28;01mimport\u001B[39;00m apps\n\u001B[0;32m      2\u001B[0m \u001B[38;5;28;01mfrom\u001B[39;00m \u001B[38;5;21;01mdjango\u001B[39;00m\u001B[38;5;21;01m.\u001B[39;00m\u001B[38;5;21;01mcontrib\u001B[39;00m \u001B[38;5;28;01mimport\u001B[39;00m auth\n\u001B[1;32m----> 3\u001B[0m \u001B[38;5;28;01mfrom\u001B[39;00m \u001B[38;5;21;01mdjango\u001B[39;00m\u001B[38;5;21;01m.\u001B[39;00m\u001B[38;5;21;01mcontrib\u001B[39;00m\u001B[38;5;21;01m.\u001B[39;00m\u001B[38;5;21;01mauth\u001B[39;00m\u001B[38;5;21;01m.\u001B[39;00m\u001B[38;5;21;01mbase_user\u001B[39;00m \u001B[38;5;28;01mimport\u001B[39;00m AbstractBaseUser, BaseUserManager\n\u001B[0;32m      4\u001B[0m \u001B[38;5;28;01mfrom\u001B[39;00m \u001B[38;5;21;01mdjango\u001B[39;00m\u001B[38;5;21;01m.\u001B[39;00m\u001B[38;5;21;01mcontrib\u001B[39;00m\u001B[38;5;21;01m.\u001B[39;00m\u001B[38;5;21;01mauth\u001B[39;00m\u001B[38;5;21;01m.\u001B[39;00m\u001B[38;5;21;01mhashers\u001B[39;00m \u001B[38;5;28;01mimport\u001B[39;00m make_password\n\u001B[0;32m      5\u001B[0m \u001B[38;5;28;01mfrom\u001B[39;00m \u001B[38;5;21;01mdjango\u001B[39;00m\u001B[38;5;21;01m.\u001B[39;00m\u001B[38;5;21;01mcontrib\u001B[39;00m\u001B[38;5;21;01m.\u001B[39;00m\u001B[38;5;21;01mcontenttypes\u001B[39;00m\u001B[38;5;21;01m.\u001B[39;00m\u001B[38;5;21;01mmodels\u001B[39;00m \u001B[38;5;28;01mimport\u001B[39;00m ContentType\n",
      "File \u001B[1;32m~\\AppData\\Local\\Programs\\Python\\Python312\\Lib\\site-packages\\django\\contrib\\auth\\base_user.py:50\u001B[0m\n\u001B[0;32m     46\u001B[0m     \u001B[38;5;28;01mdef\u001B[39;00m \u001B[38;5;21mget_by_natural_key\u001B[39m(\u001B[38;5;28mself\u001B[39m, username):\n\u001B[0;32m     47\u001B[0m         \u001B[38;5;28;01mreturn\u001B[39;00m \u001B[38;5;28mself\u001B[39m\u001B[38;5;241m.\u001B[39mget(\u001B[38;5;241m*\u001B[39m\u001B[38;5;241m*\u001B[39m{\u001B[38;5;28mself\u001B[39m\u001B[38;5;241m.\u001B[39mmodel\u001B[38;5;241m.\u001B[39mUSERNAME_FIELD: username})\n\u001B[1;32m---> 50\u001B[0m \u001B[38;5;28;43;01mclass\u001B[39;49;00m\u001B[43m \u001B[49m\u001B[38;5;21;43;01mAbstractBaseUser\u001B[39;49;00m\u001B[43m(\u001B[49m\u001B[43mmodels\u001B[49m\u001B[38;5;241;43m.\u001B[39;49m\u001B[43mModel\u001B[49m\u001B[43m)\u001B[49m\u001B[43m:\u001B[49m\n\u001B[0;32m     51\u001B[0m \u001B[43m    \u001B[49m\u001B[43mpassword\u001B[49m\u001B[43m \u001B[49m\u001B[38;5;241;43m=\u001B[39;49m\u001B[43m \u001B[49m\u001B[43mmodels\u001B[49m\u001B[38;5;241;43m.\u001B[39;49m\u001B[43mCharField\u001B[49m\u001B[43m(\u001B[49m\u001B[43m_\u001B[49m\u001B[43m(\u001B[49m\u001B[38;5;124;43m\"\u001B[39;49m\u001B[38;5;124;43mpassword\u001B[39;49m\u001B[38;5;124;43m\"\u001B[39;49m\u001B[43m)\u001B[49m\u001B[43m,\u001B[49m\u001B[43m \u001B[49m\u001B[43mmax_length\u001B[49m\u001B[38;5;241;43m=\u001B[39;49m\u001B[38;5;241;43m128\u001B[39;49m\u001B[43m)\u001B[49m\n\u001B[0;32m     52\u001B[0m \u001B[43m    \u001B[49m\u001B[43mlast_login\u001B[49m\u001B[43m \u001B[49m\u001B[38;5;241;43m=\u001B[39;49m\u001B[43m \u001B[49m\u001B[43mmodels\u001B[49m\u001B[38;5;241;43m.\u001B[39;49m\u001B[43mDateTimeField\u001B[49m\u001B[43m(\u001B[49m\u001B[43m_\u001B[49m\u001B[43m(\u001B[49m\u001B[38;5;124;43m\"\u001B[39;49m\u001B[38;5;124;43mlast login\u001B[39;49m\u001B[38;5;124;43m\"\u001B[39;49m\u001B[43m)\u001B[49m\u001B[43m,\u001B[49m\u001B[43m \u001B[49m\u001B[43mblank\u001B[49m\u001B[38;5;241;43m=\u001B[39;49m\u001B[38;5;28;43;01mTrue\u001B[39;49;00m\u001B[43m,\u001B[49m\u001B[43m \u001B[49m\u001B[43mnull\u001B[49m\u001B[38;5;241;43m=\u001B[39;49m\u001B[38;5;28;43;01mTrue\u001B[39;49;00m\u001B[43m)\u001B[49m\n",
      "File \u001B[1;32m~\\AppData\\Local\\Programs\\Python\\Python312\\Lib\\site-packages\\django\\db\\models\\base.py:127\u001B[0m, in \u001B[0;36mModelBase.__new__\u001B[1;34m(cls, name, bases, attrs, **kwargs)\u001B[0m\n\u001B[0;32m    124\u001B[0m app_label \u001B[38;5;241m=\u001B[39m \u001B[38;5;28;01mNone\u001B[39;00m\n\u001B[0;32m    126\u001B[0m \u001B[38;5;66;03m# Look for an application configuration to attach the model to.\u001B[39;00m\n\u001B[1;32m--> 127\u001B[0m app_config \u001B[38;5;241m=\u001B[39m \u001B[43mapps\u001B[49m\u001B[38;5;241;43m.\u001B[39;49m\u001B[43mget_containing_app_config\u001B[49m\u001B[43m(\u001B[49m\u001B[43mmodule\u001B[49m\u001B[43m)\u001B[49m\n\u001B[0;32m    129\u001B[0m \u001B[38;5;28;01mif\u001B[39;00m \u001B[38;5;28mgetattr\u001B[39m(meta, \u001B[38;5;124m\"\u001B[39m\u001B[38;5;124mapp_label\u001B[39m\u001B[38;5;124m\"\u001B[39m, \u001B[38;5;28;01mNone\u001B[39;00m) \u001B[38;5;129;01mis\u001B[39;00m \u001B[38;5;28;01mNone\u001B[39;00m:\n\u001B[0;32m    130\u001B[0m     \u001B[38;5;28;01mif\u001B[39;00m app_config \u001B[38;5;129;01mis\u001B[39;00m \u001B[38;5;28;01mNone\u001B[39;00m:\n",
      "File \u001B[1;32m~\\AppData\\Local\\Programs\\Python\\Python312\\Lib\\site-packages\\django\\apps\\registry.py:260\u001B[0m, in \u001B[0;36mApps.get_containing_app_config\u001B[1;34m(self, object_name)\u001B[0m\n\u001B[0;32m    251\u001B[0m \u001B[38;5;28;01mdef\u001B[39;00m \u001B[38;5;21mget_containing_app_config\u001B[39m(\u001B[38;5;28mself\u001B[39m, object_name):\n\u001B[0;32m    252\u001B[0m \u001B[38;5;250m    \u001B[39m\u001B[38;5;124;03m\"\"\"\u001B[39;00m\n\u001B[0;32m    253\u001B[0m \u001B[38;5;124;03m    Look for an app config containing a given object.\u001B[39;00m\n\u001B[0;32m    254\u001B[0m \n\u001B[1;32m   (...)\u001B[0m\n\u001B[0;32m    258\u001B[0m \u001B[38;5;124;03m    Return None if the object isn't in any registered app config.\u001B[39;00m\n\u001B[0;32m    259\u001B[0m \u001B[38;5;124;03m    \"\"\"\u001B[39;00m\n\u001B[1;32m--> 260\u001B[0m     \u001B[38;5;28;43mself\u001B[39;49m\u001B[38;5;241;43m.\u001B[39;49m\u001B[43mcheck_apps_ready\u001B[49m\u001B[43m(\u001B[49m\u001B[43m)\u001B[49m\n\u001B[0;32m    261\u001B[0m     candidates \u001B[38;5;241m=\u001B[39m []\n\u001B[0;32m    262\u001B[0m     \u001B[38;5;28;01mfor\u001B[39;00m app_config \u001B[38;5;129;01min\u001B[39;00m \u001B[38;5;28mself\u001B[39m\u001B[38;5;241m.\u001B[39mapp_configs\u001B[38;5;241m.\u001B[39mvalues():\n",
      "File \u001B[1;32m~\\AppData\\Local\\Programs\\Python\\Python312\\Lib\\site-packages\\django\\apps\\registry.py:137\u001B[0m, in \u001B[0;36mApps.check_apps_ready\u001B[1;34m(self)\u001B[0m\n\u001B[0;32m    132\u001B[0m \u001B[38;5;28;01mfrom\u001B[39;00m \u001B[38;5;21;01mdjango\u001B[39;00m\u001B[38;5;21;01m.\u001B[39;00m\u001B[38;5;21;01mconf\u001B[39;00m \u001B[38;5;28;01mimport\u001B[39;00m settings\n\u001B[0;32m    134\u001B[0m \u001B[38;5;66;03m# If \"not ready\" is due to unconfigured settings, accessing\u001B[39;00m\n\u001B[0;32m    135\u001B[0m \u001B[38;5;66;03m# INSTALLED_APPS raises a more helpful ImproperlyConfigured\u001B[39;00m\n\u001B[0;32m    136\u001B[0m \u001B[38;5;66;03m# exception.\u001B[39;00m\n\u001B[1;32m--> 137\u001B[0m \u001B[43msettings\u001B[49m\u001B[38;5;241;43m.\u001B[39;49m\u001B[43mINSTALLED_APPS\u001B[49m\n\u001B[0;32m    138\u001B[0m \u001B[38;5;28;01mraise\u001B[39;00m AppRegistryNotReady(\u001B[38;5;124m\"\u001B[39m\u001B[38;5;124mApps aren\u001B[39m\u001B[38;5;124m'\u001B[39m\u001B[38;5;124mt loaded yet.\u001B[39m\u001B[38;5;124m\"\u001B[39m)\n",
      "File \u001B[1;32m~\\AppData\\Local\\Programs\\Python\\Python312\\Lib\\site-packages\\django\\conf\\__init__.py:92\u001B[0m, in \u001B[0;36mLazySettings.__getattr__\u001B[1;34m(self, name)\u001B[0m\n\u001B[0;32m     90\u001B[0m \u001B[38;5;250m\u001B[39m\u001B[38;5;124;03m\"\"\"Return the value of a setting and cache it in self.__dict__.\"\"\"\u001B[39;00m\n\u001B[0;32m     91\u001B[0m \u001B[38;5;28;01mif\u001B[39;00m (_wrapped \u001B[38;5;241m:=\u001B[39m \u001B[38;5;28mself\u001B[39m\u001B[38;5;241m.\u001B[39m_wrapped) \u001B[38;5;129;01mis\u001B[39;00m empty:\n\u001B[1;32m---> 92\u001B[0m     \u001B[38;5;28;43mself\u001B[39;49m\u001B[38;5;241;43m.\u001B[39;49m\u001B[43m_setup\u001B[49m\u001B[43m(\u001B[49m\u001B[43mname\u001B[49m\u001B[43m)\u001B[49m\n\u001B[0;32m     93\u001B[0m     _wrapped \u001B[38;5;241m=\u001B[39m \u001B[38;5;28mself\u001B[39m\u001B[38;5;241m.\u001B[39m_wrapped\n\u001B[0;32m     94\u001B[0m val \u001B[38;5;241m=\u001B[39m \u001B[38;5;28mgetattr\u001B[39m(_wrapped, name)\n",
      "File \u001B[1;32m~\\AppData\\Local\\Programs\\Python\\Python312\\Lib\\site-packages\\django\\conf\\__init__.py:72\u001B[0m, in \u001B[0;36mLazySettings._setup\u001B[1;34m(self, name)\u001B[0m\n\u001B[0;32m     70\u001B[0m \u001B[38;5;28;01mif\u001B[39;00m \u001B[38;5;129;01mnot\u001B[39;00m settings_module:\n\u001B[0;32m     71\u001B[0m     desc \u001B[38;5;241m=\u001B[39m (\u001B[38;5;124m\"\u001B[39m\u001B[38;5;124msetting \u001B[39m\u001B[38;5;132;01m%s\u001B[39;00m\u001B[38;5;124m\"\u001B[39m \u001B[38;5;241m%\u001B[39m name) \u001B[38;5;28;01mif\u001B[39;00m name \u001B[38;5;28;01melse\u001B[39;00m \u001B[38;5;124m\"\u001B[39m\u001B[38;5;124msettings\u001B[39m\u001B[38;5;124m\"\u001B[39m\n\u001B[1;32m---> 72\u001B[0m     \u001B[38;5;28;01mraise\u001B[39;00m ImproperlyConfigured(\n\u001B[0;32m     73\u001B[0m         \u001B[38;5;124m\"\u001B[39m\u001B[38;5;124mRequested \u001B[39m\u001B[38;5;132;01m%s\u001B[39;00m\u001B[38;5;124m, but settings are not configured. \u001B[39m\u001B[38;5;124m\"\u001B[39m\n\u001B[0;32m     74\u001B[0m         \u001B[38;5;124m\"\u001B[39m\u001B[38;5;124mYou must either define the environment variable \u001B[39m\u001B[38;5;132;01m%s\u001B[39;00m\u001B[38;5;124m \u001B[39m\u001B[38;5;124m\"\u001B[39m\n\u001B[0;32m     75\u001B[0m         \u001B[38;5;124m\"\u001B[39m\u001B[38;5;124mor call settings.configure() before accessing settings.\u001B[39m\u001B[38;5;124m\"\u001B[39m\n\u001B[0;32m     76\u001B[0m         \u001B[38;5;241m%\u001B[39m (desc, ENVIRONMENT_VARIABLE)\n\u001B[0;32m     77\u001B[0m     )\n\u001B[0;32m     79\u001B[0m \u001B[38;5;28mself\u001B[39m\u001B[38;5;241m.\u001B[39m_wrapped \u001B[38;5;241m=\u001B[39m Settings(settings_module)\n",
      "\u001B[1;31mImproperlyConfigured\u001B[0m: Requested setting INSTALLED_APPS, but settings are not configured. You must either define the environment variable DJANGO_SETTINGS_MODULE or call settings.configure() before accessing settings."
     ]
    }
   ],
   "execution_count": 4
  },
  {
   "metadata": {
    "ExecuteTime": {
     "end_time": "2024-08-30T11:22:40.627432Z",
     "start_time": "2024-08-30T11:16:44.281261Z"
    }
   },
   "cell_type": "code",
   "source": [
    "\n",
    "from src.engine.uploader.Vimeo.uploader import VimeoUploader\n",
    "\n",
    "file_name = 'C:\\\\Users\\\\Barak\\\\Downloads\\\\FINAL ClipV2.mp4'\n",
    "def process_tracker(per:float):\n",
    "    print(f\"per:{per}\\r\")\n",
    "VimeoUploader().upload(file_name,progress_tracker=process_tracker)\n",
    "# from vimeo_downloader import Vimeo\n",
    "# v = Vimeo('https://vimeo.com/1002397052')\n",
    "# meta = v.metadata\n",
    "# # meta\n",
    "# s = v.streams\n",
    "# s\n",
    "# def process_tracker(per:float):\n",
    "#     print(f\"per:{per}\\r\")\n",
    "# \n",
    "# vimeo=VideoDownloader(progress_tracker=process_tracker)\n",
    "# vimeo.download(\" https://www.vimeo.com/1003956492\")"
   ],
   "id": "e1109a8fac82a026",
   "outputs": [
    {
     "name": "stdout",
     "output_type": "stream",
     "text": [
      "per:0.016851669980902945\r\n",
      "per:0.03370333996180589\r\n",
      "per:0.05055500994270884\r\n",
      "per:0.06740667992361178\r\n",
      "per:0.08425834990451472\r\n",
      "per:0.10111001988541768\r\n",
      "per:0.11796168986632062\r\n",
      "per:0.13481335984722356\r\n",
      "per:0.15166502982812652\r\n",
      "per:0.16851669980902945\r\n",
      "per:0.1853683697899324\r\n",
      "per:0.20222003977083536\r\n",
      "per:0.21907170975173829\r\n",
      "per:0.23592337973264124\r\n",
      "per:0.2527750497135442\r\n",
      "per:0.2696267196944471\r\n",
      "per:0.28647838967535005\r\n",
      "per:0.30333005965625304\r\n",
      "per:0.32018172963715597\r\n",
      "per:0.3370333996180589\r\n",
      "per:0.3538850695989619\r\n",
      "per:0.3707367395798648\r\n",
      "per:0.38758840956076773\r\n",
      "per:0.4044400795416707\r\n",
      "per:0.42129174952257364\r\n",
      "per:0.43814341950347657\r\n",
      "per:0.4549950894843795\r\n",
      "per:0.4718467594652825\r\n",
      "per:0.4886984294461854\r\n",
      "per:0.5055500994270884\r\n",
      "per:0.5224017694079913\r\n",
      "per:0.5392534393888943\r\n",
      "per:0.5561051093697972\r\n",
      "per:0.5729567793507001\r\n",
      "per:0.5898084493316031\r\n",
      "per:0.6066601193125061\r\n",
      "per:0.623511789293409\r\n",
      "per:0.6403634592743119\r\n",
      "per:0.6572151292552149\r\n",
      "per:0.6740667992361178\r\n",
      "per:0.6909184692170207\r\n",
      "per:0.7077701391979238\r\n",
      "per:0.7246218091788267\r\n",
      "per:0.7414734791597296\r\n",
      "per:0.7583251491406325\r\n",
      "per:0.7751768191215355\r\n",
      "per:0.7920284891024384\r\n",
      "per:0.8088801590833414\r\n",
      "per:0.8257318290642444\r\n",
      "per:0.8425834990451473\r\n",
      "per:0.8594351690260502\r\n",
      "per:0.8762868390069531\r\n",
      "per:0.8931385089878561\r\n",
      "per:0.909990178968759\r\n",
      "per:0.926841848949662\r\n",
      "per:0.943693518930565\r\n",
      "per:0.9605451889114679\r\n",
      "per:0.9773968588923708\r\n",
      "per:0.9942485288732738\r\n",
      "per:1.0\r\n"
     ]
    },
    {
     "data": {
      "text/plain": [
       "'https://www.vimeo.com/1004458063'"
      ]
     },
     "execution_count": 1,
     "metadata": {},
     "output_type": "execute_result"
    }
   ],
   "execution_count": 1
  },
  {
   "metadata": {
    "ExecuteTime": {
     "end_time": "2024-08-30T13:14:20.431970Z",
     "start_time": "2024-08-30T13:14:19.832642Z"
    }
   },
   "cell_type": "code",
   "source": [
    "import pytz\n",
    "from datetime import datetime\n",
    "\n",
    "datetime.now(pytz.timezone(\"Asia/Jerusalem\"))"
   ],
   "id": "bb04923bea73d966",
   "outputs": [
    {
     "data": {
      "text/plain": [
       "datetime.datetime(2024, 8, 30, 16, 14, 20, 420401, tzinfo=<DstTzInfo 'Asia/Jerusalem' IDT+3:00:00 DST>)"
      ]
     },
     "execution_count": 2,
     "metadata": {},
     "output_type": "execute_result"
    }
   ],
   "execution_count": 2
  },
  {
   "metadata": {},
   "cell_type": "code",
   "source": [
    "\n",
    "from src.engine.downloader.video_downloader import VideoDownloader\n",
    "# \n",
    "# yt = YouTube(\"https://vimeo.com/995691169\")\n",
    "# yt.streams.filter(res=\"720p\").first().download(output_path=ITEMS_READY_FOR_PROCESSING)\n",
    "downloader=VideoDownloader()\n",
    "\n",
    "video_path=downloader.download(\"https://vimeo.com/95691169\",debug=True)\n",
    "print(\"finish\")"
   ],
   "id": "c74b663d16386b0b",
   "outputs": [],
   "execution_count": null
  },
  {
   "metadata": {},
   "cell_type": "code",
   "source": [
    "import csv\n",
    "\n",
    "# Read the codecs from the text file\n",
    "with open('codecs.txt', 'r') as file:\n",
    "    lines = file.readlines()\n",
    "\n",
    "# Open a CSV file for writing\n",
    "with open('codecs.csv', 'w', newline='') as csvfile:\n",
    "    csvwriter = csv.writer(csvfile)\n",
    "    \n",
    "    # Write headers\n",
    "    csvwriter.writerow(['Codec', 'Type', 'Description'])\n",
    "    \n",
    "    for line in lines:\n",
    "        # Split the line into columns based on whitespace\n",
    "        parts = line.split(maxsplit=2)\n",
    "        \n",
    "        if len(parts) >= 3:\n",
    "            codec = parts[1].strip()\n",
    "            codec_type = parts[0].strip()\n",
    "            description = parts[2].strip()\n",
    "            \n",
    "            # Write to CSV\n",
    "            csvwriter.writerow([codec, codec_type, description])"
   ],
   "id": "e3a799841ff69992",
   "outputs": [],
   "execution_count": null
  },
  {
   "metadata": {},
   "cell_type": "code",
   "source": [
    "from src.engine import TEST_RESOURCES_DIR, SAMPLE_FILE_2\n",
    "from src.engine.serialization.stateless_serializer import StatelessSerializer\n",
    "from src.engine.serialization.tests.driver_args import DriverArgs\n",
    "from src.engine.downloader.video_downloader import VideoDownloader\n",
    "def process_tracker(phase:int,per:float):\n",
    "    print(f\"phase:{phase} per:{per}\\r\")\n",
    "url,size=\"https://dai.ly/x94c8b2\",1173216\n",
    "downloader=VideoDownloader()\n",
    "\n",
    "video_path=downloader.download(\"https://vimeo.com/997805490\")\n",
    "driver=DriverArgs(fourcc=\"h264_mf\",out_format=\"mp4\",block_size=16)\n",
    "print(video_path)\n",
    "restore_file=driver.process_video_to_file(video_path,size,\"1\",process_tracker)\n",
    "print(restore_file)\n",
    "sha_original=StatelessSerializer.generateSha256ForFile(open((TEST_RESOURCES_DIR / SAMPLE_FILE_2).as_posix(), 'rb'))\n",
    "sha_restore=StatelessSerializer.generateSha256ForFile(open(restore_file, 'rb'))\n",
    "assert sha_original != sha_restore\n",
    "print(\"finish\")\n"
   ],
   "id": "f370e11c8e2d2691",
   "outputs": [],
   "execution_count": null
  },
  {
   "metadata": {},
   "cell_type": "code",
   "source": [
    "from src.engine import COVER_VIDEOS_DIR\n",
    "from src.engine.serialization import VideoCapture\n",
    "from src.engine.serialization.ffmpeg.video_write import VideoWriter\n",
    "cover_video_path=\"C:\\\\ComputerScience\\\\Workshop\\\\cover_video.mp4\"\n",
    "cover_video_full=VideoCapture(cover_video_path)\n",
    "file_counter=1\n",
    "video_path_output=(COVER_VIDEOS_DIR / \"cover-video_{0}.mp4\").as_posix()\n",
    "counter=1\n",
    "video_props=cover_video_full.get_video_props()\n",
    "codec=\"h264_mf\"\n",
    "fps=video_props.get(\"fps\")\n",
    "dims=(video_props[\"width\"],video_props[\"height\"])\n",
    "output=VideoWriter(video_path_output.format(file_counter),codec,fps,dims)\n",
    "while True:\n",
    "            # print(counter)\n",
    "            ret_ff, frame_ff = cover_video_full.read()\n",
    "            # print(counter)\n",
    "            if not ret_ff:\n",
    "                # print(\"loop ended. No more frames in file_frames\")\n",
    "                break\n",
    "            output.write(frame_ff)\n",
    "            counter += 1\n",
    "            print(f\"file {file_counter}:{(counter/(fps*600)):.4f}\",end=\"\\r\")\n",
    "            if counter>=fps*600:\n",
    "                counter=1\n",
    "                file_counter+=1\n",
    "                output.release()\n",
    "                print(\"release video capture\")\n",
    "                output=VideoWriter(video_path_output.format(file_counter),codec,fps,dims)\n",
    "                print(\"new file\")\n",
    "\n",
    "output.release()"
   ],
   "id": "d2f46eea70051bac",
   "outputs": [],
   "execution_count": null
  },
  {
   "metadata": {},
   "cell_type": "code",
   "source": [
    "import av.codec\n",
    "\n",
    "from src.engine.serialization import VideoCapture\n",
    "\n",
    "video_path_output= \"/src/engine/artifacts/awaiting_storage/out_{}.mp4\"\n",
    "file_frames_video = VideoCapture(\n",
    "    \"/src/engine\\\\artifacts\\\\awaiting_storage\\\\51e8b97e-c950-478f-8cc0-d8436cbd411f_mp4v.mp4\")\n",
    "file_path= \"/src/engine\\\\artifacts\\\\awaiting_storage\\\\out_mpeg4.mp4\"\n",
    "video=VideoCapture(file_path)\n",
    "print(video.get_video_props())"
   ],
   "id": "7a2db186144c1523",
   "outputs": [],
   "execution_count": null
  },
  {
   "metadata": {},
   "cell_type": "code",
   "source": [
    "\n",
    "codec_list = ['dirac', 'mpegvideo', 'libvpx-vp9', 'vc1', 'jpeg2000', 'h264', 'vp9', 'tscc2', 'mpeg1video', 'mpeg2video', 'hevc', 'png', 'libdav1d', 'mjpeg', 'mpeg4', 'dirac', 'h264', 'hevc', 'jpeg2000', 'libdav1d', 'libvpx-vp9', 'mjpeg', 'mpeg1video', 'mpeg2video', 'mpeg4', 'mpegvideo', 'png', 'tscc2', 'vc1', 'vp9']\n"
   ],
   "id": "b305e9d01e09f748",
   "outputs": [],
   "execution_count": null
  },
  {
   "metadata": {},
   "cell_type": "code",
   "source": [
    "import csv\n",
    "import time\n",
    "from src.engine.serialization.ffmpeg.video_write import VideoWriter\n",
    "csv_path= \"/src/engine\\\\artifacts\\\\awaiting_storage\\\\out_234.csv\"\n",
    "print(\"start video capture\")\n",
    "with open(csv_path, 'w', newline='') as file:\n",
    "     \n",
    "    csv_file=csv.writer(file,dialect='excel', delimiter=',')\n",
    "    csv_file.writerow([\"codec\",\"time\"])\n",
    "    codec_list_final=[]\n",
    "    for codec_name in codec_list:\n",
    "\n",
    "        try:\n",
    "            codec_obj=av.Codec(codec_name, 'r')\n",
    "            print(f\"## {codec_name} :{codec_obj.type} ##\")\n",
    "            if codec_obj.type!=\"video\":\n",
    "                continue\n",
    "                \n",
    "                \n",
    "            start_time=time.time()\n",
    "            # print(\"start codec {}\".format(codec))\n",
    "            file_frames_video.set( 0)\n",
    "            output=VideoWriter(video_path_output.format(codec_name),codec_name,30,(1920,1080))\n",
    "            counter=0\n",
    "            while True and counter<30:\n",
    "                        # print(counter)\n",
    "                        ret_ff, frame_ff = file_frames_video.read()\n",
    "                        # print(counter)\n",
    "                        if not ret_ff:\n",
    "                            # print(\"loop ended. No more frames in file_frames\")\n",
    "                            break  \n",
    "            \n",
    "                        output.write(frame_ff)\n",
    "                        counter += 1\n",
    "            print(\"release video capture\")            \n",
    "            output.release()\n",
    "            print(\"end video capture\")\n",
    "            end_time=time.time()\n",
    "            codec_list_final.append(codec_name)\n",
    "            csv_file.writerow([codec_name,end_time-start_time])\n",
    "            print(\"end codec {} in sec\".format(end_time-start_time))\n",
    "        except Exception as e:\n",
    "            print(codec_name,e)\n",
    "          \n",
    "    print(\"list\",codec_list_final)\n",
    "    "
   ],
   "id": "bdb464cc0b553ba3",
   "outputs": [],
   "execution_count": null
  },
  {
   "metadata": {},
   "cell_type": "code",
   "source": [
    "file_frames_video = VideoCapture(\n",
    "    \"/src/engine\\\\artifacts\\\\awaiting_storage\\\\51e8b97e-c950-478f-8cc0-d8436cbd411f_mp4v_2.mp4\")\n",
    "print(file_frames_video.isOpened())\n",
    "file_path= \"/src/engine\\\\artifacts\\\\awaiting_storage\\\\out_mpeg42.mp4\""
   ],
   "id": "f333cf48596a6008",
   "outputs": [],
   "execution_count": null
  },
  {
   "metadata": {},
   "cell_type": "code",
   "source": "",
   "id": "aa7efe8009b3c6e8",
   "outputs": [],
   "execution_count": null
  },
  {
   "metadata": {},
   "cell_type": "code",
   "source": [
    "import av\n",
    "mp4_format = av.ContainerFormat('mp4')\n",
    "\n",
    "# List the codecs supported by the MP4 container\n",
    "codecs = mp4_format.supported_codecs\n",
    "print(codecs)"
   ],
   "id": "623c1c1ab1519dd6",
   "outputs": [],
   "execution_count": null
  }
 ],
 "metadata": {
  "kernelspec": {
   "display_name": "Python 3",
   "language": "python",
   "name": "python3"
  },
  "language_info": {
   "codemirror_mode": {
    "name": "ipython",
    "version": 2
   },
   "file_extension": ".py",
   "mimetype": "text/x-python",
   "name": "python",
   "nbconvert_exporter": "python",
   "pygments_lexer": "ipython2",
   "version": "2.7.6"
  }
 },
 "nbformat": 4,
 "nbformat_minor": 5
}
